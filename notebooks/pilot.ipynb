{
 "cells": [
  {
   "cell_type": "code",
   "execution_count": 1,
   "id": "4ae78b03-2bdb-4f7a-8b63-47f9949bdd4c",
   "metadata": {},
   "outputs": [
    {
     "name": "stdout",
     "output_type": "stream",
     "text": [
      "env: http_proxy=http://proxy-default:3128\n",
      "env: https_proxy=http://proxy-default:3128\n",
      "scikit-allel 1.3.6\n"
     ]
    }
   ],
   "source": [
    "# proxies for internet access on the cluster\n",
    "%env http_proxy=http://proxy-default:3128\n",
    "%env https_proxy=http://proxy-default:3128\n",
    "\n",
    "import numpy as np\n",
    "import pandas as pd\n",
    "\n",
    "import h5py\n",
    "import zarr\n",
    "import allel; print('scikit-allel', allel.__version__)\n",
    "import ipytree\n",
    "\n",
    "%matplotlib inline\n",
    "from matplotlib_inline.backend_inline import set_matplotlib_formats\n",
    "set_matplotlib_formats('retina', 'png')\n",
    "import matplotlib.pyplot as plt\n",
    "import seaborn as sns\n",
    "sns.set() # sets seaborn default \"prettyness:\n",
    "sns.set_style(\"ticks\")\n",
    "# scale plots\n",
    "sns.set_context(\"paper\")\n",
    "import matplotlib as mpl\n",
    "scale = 0.8\n",
    "d = dict([(k, v*scale) for (k, v) in sns.plotting_context('paper').items()])\n",
    "d['figure.figsize'] = [5.4, 3.5]\n",
    "mpl.rcParams.update(d)\n",
    "\n",
    "# # citing and reflist macros\n",
    "# %macro -q _cite https://gist.githubusercontent.com/kaspermunch/c4a64203651b054e18bae16792b828c6/raw/\n",
    "# %macro -q _incite https://gist.githubusercontent.com/kaspermunch/77f78d8d88a816a74b5415ac0640d2b7/raw/\n",
    "# %macro -q _reflist https://gist.githubusercontent.com/kaspermunch/977e903f6675b388998b1c3d367f5d55/raw/"
   ]
  },
  {
   "cell_type": "code",
   "execution_count": 2,
   "id": "dc2eda4e-0e18-41ef-8c52-d72410e1113a",
   "metadata": {},
   "outputs": [
    {
     "name": "stdout",
     "output_type": "stream",
     "text": [
      "calldata  samples  variants\r\n"
     ]
    }
   ],
   "source": [
    "! ls /home/kmt/baboondiversity/data/PG_panu3_zarr_12_03_2021/callset.zarr/chrX"
   ]
  },
  {
   "cell_type": "code",
   "execution_count": 3,
   "id": "1efa6932-6a35-4d89-8dbe-4c222085d1dc",
   "metadata": {},
   "outputs": [],
   "source": [
    "callset = zarr.open_group('/home/kmt/baboondiversity/data/PG_panu3_zarr_12_03_2021/callset.zarr/chrX', mode='r')"
   ]
  },
  {
   "cell_type": "code",
   "execution_count": 4,
   "id": "431517d5-ee42-4944-8fde-5737edb78954",
   "metadata": {},
   "outputs": [
    {
     "data": {
      "application/vnd.jupyter.widget-view+json": {
       "model_id": "869a36cdd0e84e98b934c04fce9d5ba6",
       "version_major": 2,
       "version_minor": 0
      },
      "text/plain": [
       "Tree(nodes=(Node(disabled=True, name='/', nodes=(Node(disabled=True, name='calldata', nodes=(Node(disabled=Tru…"
      ]
     },
     "execution_count": 4,
     "metadata": {},
     "output_type": "execute_result"
    }
   ],
   "source": [
    "callset.tree(expand=True)"
   ]
  },
  {
   "cell_type": "code",
   "execution_count": 24,
   "id": "faaf749b-aaf1-4be9-882d-efe0537efae3",
   "metadata": {},
   "outputs": [],
   "source": [
    "zarr.load('/home/kmt/baboondiversity/data/PG_panu3_zarr_12_03_2021/callset.zarr')"
   ]
  },
  {
   "cell_type": "code",
   "execution_count": null,
   "id": "07ea1efa-e203-426b-b79e-11a9a5194523",
   "metadata": {},
   "outputs": [],
   "source": []
  }
 ],
 "metadata": {
  "kernelspec": {
   "display_name": "Python 3 (ipykernel)",
   "language": "python",
   "name": "python3"
  },
  "language_info": {
   "codemirror_mode": {
    "name": "ipython",
    "version": 3
   },
   "file_extension": ".py",
   "mimetype": "text/x-python",
   "name": "python",
   "nbconvert_exporter": "python",
   "pygments_lexer": "ipython3",
   "version": "3.10.12"
  }
 },
 "nbformat": 4,
 "nbformat_minor": 5
}
